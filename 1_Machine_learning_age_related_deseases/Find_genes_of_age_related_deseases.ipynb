{
  "cells": [
    {
      "cell_type": "markdown",
      "metadata": {
        "id": "SsRq08Tamovk"
      },
      "source": [
        "This project will be focused on applying various classification models and selecting the best based on their performance on the dataset. Models will attempt to identify genes associated with age-related diseases.\n",
        "The dataset includes genes encoding sequence-based features (hydrophobicity, polarity, polarizability, secondary structure, Van der Waals volume, charge, solvent accessibility, etc.)"
      ]
    },
    {
      "cell_type": "markdown",
      "metadata": {},
      "source": [
        "I prefer maintaining my projects within Windows Subsystem for Linux. For this reason, we must isolate our working environment for safety and reproducibility.\n",
        "To do so, let's install a virtual environment globally."
      ]
    },
    {
      "cell_type": "code",
      "execution_count": null,
      "metadata": {},
      "outputs": [],
      "source": [
        "pip install virtualenv"
      ]
    },
    {
      "cell_type": "markdown",
      "metadata": {},
      "source": [
        "Now we can run our virtual environment with a compatible python version (in WSL2 We have to specify the absolute path to our python installation file.):"
      ]
    },
    {
      "cell_type": "code",
      "execution_count": null,
      "metadata": {},
      "outputs": [],
      "source": [
        "virtualenv -p /root/.pyenv/versions/3.7/bin/python3.7 age_genes_vnv"
      ]
    },
    {
      "cell_type": "markdown",
      "metadata": {
        "id": "ILrKUftRoi-K"
      },
      "source": [
        "# Now let's install the required dependencies from the requirements file (created previously with pip freeze command for convenience).\n"
      ]
    },
    {
      "cell_type": "code",
      "execution_count": null,
      "metadata": {},
      "outputs": [],
      "source": [
        "pip install -r https://raw.githubusercontent.com/dmy-collab/shared-projects/main/requirements.txt"
      ]
    },
    {
      "cell_type": "markdown",
      "metadata": {},
      "source": [
        "##In case of any issues, we can install packages manually:"
      ]
    },
    {
      "cell_type": "code",
      "execution_count": null,
      "metadata": {
        "id": "r6q0ujX02EdJ"
      },
      "outputs": [],
      "source": [
        "pip install pandas\n"
      ]
    },
    {
      "cell_type": "code",
      "execution_count": null,
      "metadata": {
        "colab": {
          "base_uri": "https://localhost:8080/"
        },
        "id": "nLOjTc_T3XiK",
        "outputId": "c7453294-7fea-47be-b97e-a897a8fac082"
      },
      "outputs": [
        {
          "name": "stdout",
          "output_type": "stream",
          "text": [
            "Requirement already satisfied: scikit-learn in /usr/local/lib/python3.7/dist-packages (0.22.2.post1)\n",
            "Collecting scikit-learn\n",
            "  Downloading scikit_learn-0.24.2-cp37-cp37m-manylinux2010_x86_64.whl (22.3 MB)\n",
            "\u001b[K     |████████████████████████████████| 22.3 MB 1.8 MB/s \n",
            "\u001b[?25hRequirement already satisfied: joblib>=0.11 in /usr/local/lib/python3.7/dist-packages (from scikit-learn) (1.0.1)\n",
            "Collecting threadpoolctl>=2.0.0\n",
            "  Downloading threadpoolctl-2.2.0-py3-none-any.whl (12 kB)\n",
            "Requirement already satisfied: numpy>=1.13.3 in /usr/local/lib/python3.7/dist-packages (from scikit-learn) (1.19.5)\n",
            "Requirement already satisfied: scipy>=0.19.1 in /usr/local/lib/python3.7/dist-packages (from scikit-learn) (1.4.1)\n",
            "Installing collected packages: threadpoolctl, scikit-learn\n",
            "  Attempting uninstall: scikit-learn\n",
            "    Found existing installation: scikit-learn 0.22.2.post1\n",
            "    Uninstalling scikit-learn-0.22.2.post1:\n",
            "      Successfully uninstalled scikit-learn-0.22.2.post1\n",
            "Successfully installed scikit-learn-0.24.2 threadpoolctl-2.2.0\n"
          ]
        }
      ],
      "source": [
        "pip install -U scikit-learn"
      ]
    },
    {
      "cell_type": "markdown",
      "metadata": {
        "id": "thaGsmdS33q6"
      },
      "source": [
        "# Importing libraries"
      ]
    },
    {
      "cell_type": "code",
      "execution_count": 2,
      "metadata": {
        "id": "barfiARm38jo"
      },
      "outputs": [],
      "source": [
        "import seaborn as sns\n",
        "import matplotlib as mpl\n",
        "import matplotlib.pyplot as plt\n",
        "import numpy as np\n",
        "import pandas as pd\n",
        "pd.set_option('display.max_columns', None)\n",
        "pd.set_option('display.max_colwidth', None)\n",
        "pd.set_option('max_seq_item', None)\n",
        "pd.set_option('display.width', 1000)"
      ]
    },
    {
      "cell_type": "markdown",
      "metadata": {
        "id": "tHe4AM333qTG"
      },
      "source": [
        "# Importing the file:"
      ]
    },
    {
      "cell_type": "code",
      "execution_count": 3,
      "metadata": {
        "colab": {
          "base_uri": "https://localhost:8080/"
        },
        "id": "eKMInyPU3hFi",
        "outputId": "5e3e79c8-0e74-40cb-9e1f-0fa29c24e512"
      },
      "outputs": [
        {
          "name": "stdout",
          "output_type": "stream",
          "text": [
            "--2021-07-30 21:37:52--  https://raw.githubusercontent.com/dmy-collab/shared-projects/main/Find_age_related_deseases_genes/Genes_dataset.xlsx\n",
            "Resolving raw.githubusercontent.com (raw.githubusercontent.com)... 185.199.108.133, 185.199.109.133, 185.199.110.133, ...\n",
            "Connecting to raw.githubusercontent.com (raw.githubusercontent.com)|185.199.108.133|:443... connected.\n",
            "HTTP request sent, awaiting response... 200 OK\n",
            "Length: 244514 (239K) [application/octet-stream]\n",
            "Saving to: ‘Genes_dataset.xlsx’\n",
            "\n",
            "Genes_dataset.xlsx  100%[===================>] 238.78K  --.-KB/s    in 0.03s   \n",
            "\n",
            "2021-07-30 21:37:52 (8.78 MB/s) - ‘Genes_dataset.xlsx’ saved [244514/244514]\n",
            "\n"
          ]
        }
      ],
      "source": [
        "!wget https://raw.githubusercontent.com/dmy-collab/shared-projects/main/Find_age_related_deseases_genes/Genes_dataset.xlsx\n",
        "dataset = pd.read_excel('Genes_dataset.xlsx')"
      ]
    },
    {
      "cell_type": "markdown",
      "metadata": {
        "id": "k-1NKqUn44S-"
      },
      "source": [
        "# Initial analysis:"
      ]
    },
    {
      "cell_type": "code",
      "execution_count": null,
      "metadata": {
        "colab": {
          "base_uri": "https://localhost:8080/"
        },
        "id": "4l9LwY-g43n0",
        "outputId": "10483aaa-13f0-44e2-ad52-0559312018f6"
      },
      "outputs": [
        {
          "name": "stdout",
          "output_type": "stream",
          "text": [
            "(658, 75)\n",
            "Gene_Symbol 0\n",
            "Uniprot_ID 0\n",
            "Polar 0\n",
            "Neutral 0\n",
            "Hydrophobicity 0\n",
            "0-2.78 0\n",
            "2.95-4.0 0\n",
            "4.03-8.08 0\n",
            "4.9-6.2 0\n",
            "8.0-9.2 0\n",
            "10.4-13.0 0\n",
            "0-1.08 0\n",
            "0.128-0.186 0\n",
            "0.219-0.409 0\n",
            "Positive 0\n",
            "Neutral.1 0\n",
            "Negative 0\n",
            "Buried 0\n",
            "Exposed 0\n",
            "Intermediate 0\n",
            "Helix 0\n",
            "Strand 0\n",
            "Coil 0\n",
            "(-0.20~0.16) 0\n",
            "(-0.3~ -0.52) 0\n",
            "(-0.98~ -2.46) 0\n",
            "High (5-21%) 0\n",
            "Medium (1.12-3.64%) 0\n",
            "Low (0-0.83%) 0\n",
            "High (1.21-2.02) 0\n",
            "Medium (0.63-1.12) 0\n",
            "Low (0.14-0.29) 0\n",
            "High (4-30%)  0\n",
            "Medium (1-3%)  0\n",
            "Low (0-1%)  0\n",
            "High (25-100%)  0\n",
            "Medium (5-18%)  0\n",
            "Low (0-4%)  0\n",
            "High (0.25-11)  0\n",
            "Medium (-0.25 – 0.17)  0\n",
            "Low (-0.3 - -0.8)  0\n",
            "High (1.18-2.07)  0\n",
            "Medium (0.84-1.16)  0\n",
            "Low (0.41-0.8)  0\n",
            "High (0.95-1.8)  0\n",
            "Medium (0.5-0.95)  0\n",
            "Low (0-0.5)  0\n",
            "High (?2.25)  0\n",
            "Medium (1.6-2.3)  0\n",
            "Low (?1.5)  0\n",
            "High  (?1.4)  0\n",
            "Medium (0.79-1.21)  0\n",
            "Low (?0.76)  0\n",
            "High (477-1197)  0\n",
            "Medium (95-423)  0\n",
            "Low (<95)  0\n",
            "Low (75-105) 0\n",
            "Medium (115-155) 0\n",
            "High (165-204) 0\n",
            "(-4.2 - -3.3) 0\n",
            "(-3.07 – 2.26) 0\n",
            "(-1.78 - -1.05) 0\n",
            ">1 0\n",
            "1 0\n",
            "0 0\n",
            ">1.1 0\n",
            "1.1 0\n",
            "0.1 0\n",
            "High (9-65 g/100g)  0\n",
            "Medium (1.14-7.44 g/100g)  0\n",
            "Low (0.048-0.82 0\n",
            "Very flexible 0\n",
            "Moderately flexible 0\n",
            "Less flexible 0\n",
            "Target 0\n"
          ]
        }
      ],
      "source": [
        "print(dataset.shape)\n",
        "dataset['Target'].value_counts()\n",
        "nulls = dataset.isnull().sum().to_frame()   # searching for missing values\n",
        "for index, row in nulls.iterrows():\n",
        "    print(index, row[0])"
      ]
    },
    {
      "cell_type": "markdown",
      "metadata": {
        "id": "7h1pH_r15fwm"
      },
      "source": [
        "# Splitting the dataset on features and labels:"
      ]
    },
    {
      "cell_type": "code",
      "execution_count": 4,
      "metadata": {
        "id": "kXzCFNwm5lwU"
      },
      "outputs": [],
      "source": [
        "X = dataset.iloc[:, 2:-1].values    # features\n",
        "y = dataset.iloc[:, -1].values      # labels"
      ]
    },
    {
      "cell_type": "markdown",
      "metadata": {
        "id": "6mR9UfaS5tyW"
      },
      "source": [
        "# Data scaling:"
      ]
    },
    {
      "cell_type": "code",
      "execution_count": 5,
      "metadata": {
        "id": "Xg9lmkz15xQf"
      },
      "outputs": [],
      "source": [
        "from sklearn.preprocessing import StandardScaler\n",
        "sc = StandardScaler()\n",
        "X_norm = sc.fit_transform(X)"
      ]
    },
    {
      "cell_type": "markdown",
      "metadata": {
        "id": "57bwxvoS55W_"
      },
      "source": [
        "# PCA:"
      ]
    },
    {
      "cell_type": "code",
      "execution_count": 6,
      "metadata": {
        "id": "5KNoedp058Z-"
      },
      "outputs": [],
      "source": [
        "from sklearn.decomposition import PCA\n",
        "sklearn_pca = PCA(n_components=2)\n",
        "PCs = sklearn_pca.fit_transform(X_norm)\n",
        "\n",
        "data_transform = pd.DataFrame(PCs, columns=['PC1', 'PC2'])\n",
        "data_transform = pd.concat([data_transform, dataset.iloc[:, -1]], axis=1)"
      ]
    },
    {
      "cell_type": "markdown",
      "metadata": {
        "id": "fzDtfue06E_b"
      },
      "source": [
        "\n",
        "\n",
        "> **Visualizing distribution of instances to find whether there is linearity in data distribution:**\n"
      ]
    },
    {
      "cell_type": "code",
      "execution_count": null,
      "metadata": {
        "colab": {
          "base_uri": "https://localhost:8080/",
          "height": 497
        },
        "id": "qYt4klvF6M5E",
        "outputId": "e32f0068-bb17-406b-9708-6c4a3e006349"
      },
      "outputs": [
        {
          "data": {
            "image/png": "[encoded data removed]",
            "text/plain": [
              "<Figure size 720x576 with 1 Axes>"
            ]
          },
          "metadata": {
            "needs_background": "light",
            "tags": []
          },
          "output_type": "display_data"
        }
      ],
      "source": [
        "fig, axes = plt.subplots(figsize=(10, 8))\n",
        "sns.set_style(\"whitegrid\")\n",
        "sns.scatterplot(x='PC1', y='PC2', data=data_transform, hue='Target', cmap='grey')\n",
        "plt.show()  "
      ]
    },
    {
      "cell_type": "markdown",
      "metadata": {
        "id": "wOJkR0SXZ14Z"
      },
      "source": [
        "*We can see no linearity in data distribution; hence, linear regression will not be applicable for this dataset. Let's proceed with other methods.*"
      ]
    },
    {
      "cell_type": "markdown",
      "metadata": {
        "id": "0cDvRNnZ_PcQ"
      },
      "source": [
        "\n",
        "\n",
        "> **Splitting the dataset into the Training set and Test set:**\n",
        "\n"
      ]
    },
    {
      "cell_type": "code",
      "execution_count": 7,
      "metadata": {
        "id": "D7F50tzO_amq"
      },
      "outputs": [],
      "source": [
        "from sklearn.model_selection import train_test_split\n",
        "X_train, X_test, y_train, y_test = train_test_split(X_norm, y, test_size=0.20, random_state=101)"
      ]
    },
    {
      "cell_type": "markdown",
      "metadata": {
        "id": "HPP2iWNLAc4p"
      },
      "source": [
        "# Training the Logistic Regression model and evaluation:"
      ]
    },
    {
      "cell_type": "code",
      "execution_count": 8,
      "metadata": {
        "id": "udq3o-PuAhcd"
      },
      "outputs": [],
      "source": [
        "from sklearn.linear_model import LogisticRegression\n",
        "Logit_classifier = LogisticRegression(random_state=0)\n",
        "Logit_classifier.fit(X_train, y_train)\n",
        "y_pred = Logit_classifier.predict(X_test)"
      ]
    },
    {
      "cell_type": "markdown",
      "metadata": {
        "id": "7BOSZuucQejm"
      },
      "source": [
        "*Let's define a function for the evaluation output since we will utilize it for each approach.*"
      ]
    },
    {
      "cell_type": "code",
      "execution_count": 9,
      "metadata": {
        "id": "crN2BokAQv2N"
      },
      "outputs": [],
      "source": [
        "def evaluation_report(method_name):\n",
        "  from sklearn.metrics import confusion_matrix, classification_report\n",
        "  print(f'\\n\\t {method_name} model evaluation')\n",
        "  print(confusion_matrix(y_test, y_pred))\n",
        "  print('\\n')\n",
        "  print(classification_report(y_test, y_pred))"
      ]
    },
    {
      "cell_type": "markdown",
      "metadata": {
        "id": "MwG4G4fFRvSO"
      },
      "source": [
        "*Now let's output the evaluation report with our function.*"
      ]
    },
    {
      "cell_type": "code",
      "execution_count": 10,
      "metadata": {
        "colab": {
          "base_uri": "https://localhost:8080/"
        },
        "id": "AXYAhyMVQxI_",
        "outputId": "063032b2-786f-43ef-af1d-97191c11c31e"
      },
      "outputs": [
        {
          "name": "stdout",
          "output_type": "stream",
          "text": [
            "\n",
            "\t Logistic regression model evaluation\n",
            "[[33 31]\n",
            " [22 46]]\n",
            "\n",
            "\n",
            "              precision    recall  f1-score   support\n",
            "\n",
            "           0       0.60      0.52      0.55        64\n",
            "           1       0.60      0.68      0.63        68\n",
            "\n",
            "    accuracy                           0.60       132\n",
            "   macro avg       0.60      0.60      0.59       132\n",
            "weighted avg       0.60      0.60      0.60       132\n",
            "\n"
          ]
        }
      ],
      "source": [
        "evaluation_report('Logistic regression')"
      ]
    },
    {
      "cell_type": "markdown",
      "metadata": {
        "id": "F3pdjOxsMAkf"
      },
      "source": [
        "*With this method, we achieved 60% accuracy. Let's try other methods to see if we can get better results.*"
      ]
    },
    {
      "cell_type": "markdown",
      "metadata": {
        "id": "sFRgbpaqBD0q"
      },
      "source": [
        "# Training the k-nearest neighbors (KNN) model and evaluation:\n",
        "\n",
        "> Choosing K Value:\n",
        "\n"
      ]
    },
    {
      "cell_type": "code",
      "execution_count": null,
      "metadata": {
        "colab": {
          "base_uri": "https://localhost:8080/",
          "height": 404
        },
        "id": "pGDintjTBPCZ",
        "outputId": "d3b742da-76d0-4074-9aa9-5a7eec834887"
      },
      "outputs": [
        {
          "data": {
            "image/png": "[encoded data removed]",
            "text/plain": [
              "<Figure size 720x432 with 1 Axes>"
            ]
          },
          "metadata": {
            "needs_background": "light",
            "tags": []
          },
          "output_type": "display_data"
        }
      ],
      "source": [
        "from sklearn.neighbors import KNeighborsClassifier\n",
        "\n",
        "errors = []\n",
        "\n",
        "for i in range(1, 100):\n",
        "    knn = KNeighborsClassifier(n_neighbors=i)\n",
        "    knn.fit(X_train, y_train)\n",
        "    pred_i = knn.predict(X_test)\n",
        "    errors.append(np.mean(pred_i != y_test))\n",
        "\n",
        "#  plotting error rate to find optimal K-value:\n",
        "plt.figure(figsize=(10, 6))\n",
        "plt.plot(range(1, 100), errors, color='blue', linestyle='dashed', marker='o',\n",
        "         markerfacecolor='red', markersize=10)\n",
        "plt.title('Error Rate vs. K Value')\n",
        "plt.xlabel('K Value')\n",
        "plt.ylabel('Error Rate')\n",
        "plt.show() "
      ]
    },
    {
      "cell_type": "markdown",
      "metadata": {
        "id": "2lVHvlFOCsxr"
      },
      "source": [
        ">> According to the plot, K=7 is the lowest K-value, which provides the lowest error rate; hence we will use it further.\n",
        "\n",
        "---\n",
        "\n"
      ]
    },
    {
      "cell_type": "markdown",
      "metadata": {
        "id": "Gg5RHbHnRm6S"
      },
      "source": [
        "\n",
        "\n",
        "> Model evaluation:\n",
        "\n"
      ]
    },
    {
      "cell_type": "code",
      "execution_count": null,
      "metadata": {
        "colab": {
          "base_uri": "https://localhost:8080/"
        },
        "id": "jhQ1X83aSDxs",
        "outputId": "0a6d1f43-8948-4202-bea4-a18e8c49870a"
      },
      "outputs": [
        {
          "name": "stdout",
          "output_type": "stream",
          "text": [
            "\n",
            "\tKNN model evaluation:\n",
            "[[43 21]\n",
            " [24 44]]\n",
            "\n",
            "\n",
            "              precision    recall  f1-score   support\n",
            "\n",
            "           0       0.64      0.67      0.66        64\n",
            "           1       0.68      0.65      0.66        68\n",
            "\n",
            "    accuracy                           0.66       132\n",
            "   macro avg       0.66      0.66      0.66       132\n",
            "weighted avg       0.66      0.66      0.66       132\n",
            "\n"
          ]
        }
      ],
      "source": [
        "KNN_classifier = KNeighborsClassifier(n_neighbors=7)\n",
        "KNN_classifier.fit(X_train, y_train)\n",
        "y_pred = KNN_classifier.predict(X_test)\n",
        "\n",
        "evaluation_report('KNN')"
      ]
    },
    {
      "cell_type": "markdown",
      "metadata": {
        "id": "zRNvr7abST40"
      },
      "source": [
        "*We achieved 66% accuracy with this method. Let's try other methods to see if we can get better results.*"
      ]
    },
    {
      "cell_type": "markdown",
      "metadata": {
        "id": "klaIXhHOa60T"
      },
      "source": [
        "# Training the Random Forest model and evaluation:"
      ]
    },
    {
      "cell_type": "code",
      "execution_count": null,
      "metadata": {
        "colab": {
          "base_uri": "https://localhost:8080/"
        },
        "id": "tNRw7Knza8mW",
        "outputId": "302afa52-0034-4be2-e69d-9ba79acbf6db"
      },
      "outputs": [
        {
          "name": "stdout",
          "output_type": "stream",
          "text": [
            "\n",
            "\tRandom Forest model evaluation:\n",
            "[[37 27]\n",
            " [26 42]]\n",
            "\n",
            "\n",
            "              precision    recall  f1-score   support\n",
            "\n",
            "           0       0.59      0.58      0.58        64\n",
            "           1       0.61      0.62      0.61        68\n",
            "\n",
            "    accuracy                           0.60       132\n",
            "   macro avg       0.60      0.60      0.60       132\n",
            "weighted avg       0.60      0.60      0.60       132\n",
            "\n"
          ]
        }
      ],
      "source": [
        "from sklearn.model_selection import GridSearchCV    # find optimal N of trees with grid search\n",
        "from sklearn.ensemble import RandomForestClassifier\n",
        "param_grid = {'n_estimators': [10, 100, 150, 200, 250, 300, 350, 400]}\n",
        "RF_classifier = GridSearchCV(RandomForestClassifier(), param_grid, refit=True, verbose=0)\n",
        "RF_classifier.fit(X_train, y_train)\n",
        "y_pred = RF_classifier.predict(X_test)\n",
        "\n",
        "evaluation_report('Random Forest')"
      ]
    },
    {
      "cell_type": "markdown",
      "metadata": {
        "id": "7zXEnh9XbA8t"
      },
      "source": [
        "*We achieved 60% accuracy with this method. Let's try other methods to see if we can get better results.*"
      ]
    },
    {
      "cell_type": "markdown",
      "metadata": {
        "id": "0GNXN1FobTQb"
      },
      "source": [
        "# Training the Support-vector machine (SVM) model and evaluation:"
      ]
    },
    {
      "cell_type": "code",
      "execution_count": null,
      "metadata": {
        "colab": {
          "base_uri": "https://localhost:8080/"
        },
        "id": "62YAluGZbXeE",
        "outputId": "72cf5f8a-8f33-4f4b-9004-088db3160251"
      },
      "outputs": [
        {
          "name": "stdout",
          "output_type": "stream",
          "text": [
            "\n",
            "\t SVM model and evaluation\n",
            "[[37 27]\n",
            " [28 40]]\n",
            "\n",
            "\n",
            "              precision    recall  f1-score   support\n",
            "\n",
            "           0       0.57      0.58      0.57        64\n",
            "           1       0.60      0.59      0.59        68\n",
            "\n",
            "    accuracy                           0.58       132\n",
            "   macro avg       0.58      0.58      0.58       132\n",
            "weighted avg       0.58      0.58      0.58       132\n",
            "\n"
          ]
        }
      ],
      "source": [
        "from sklearn.svm import SVC\n",
        "from sklearn.model_selection import GridSearchCV\n",
        "param_grid = {'C': [0.1, 1, 10, 100, 1000], 'gamma': [1, 0.1, 0.01, 0.001, 0.0001], 'kernel': ['rbf']}\n",
        "SVM_classifier = GridSearchCV(SVC(), param_grid, refit=True, verbose=0)\n",
        "SVM_classifier.fit(X_train, y_train)\n",
        "\n",
        "y_pred = SVM_classifier.predict(X_test)\n",
        "evaluation_report('Random Forest')"
      ]
    },
    {
      "cell_type": "markdown",
      "metadata": {
        "id": "3F69kOsQbit0"
      },
      "source": [
        "*We achieved 58% accuracy with this method. Let's try other methods to see if we can get better results.*"
      ]
    },
    {
      "cell_type": "markdown",
      "metadata": {
        "id": "0bPmC82qbtNK"
      },
      "source": [
        "# Training the artificial neural network (ANN) model and evaluation:"
      ]
    },
    {
      "cell_type": "code",
      "execution_count": 11,
      "metadata": {
        "colab": {
          "base_uri": "https://localhost:8080/"
        },
        "id": "SkWs_VEjby_g",
        "outputId": "9606c77a-eaf7-40fc-f8a1-f8ca2981ee3c"
      },
      "outputs": [
        {
          "name": "stdout",
          "output_type": "stream",
          "text": [
            "Epoch 1/400\n",
            "9/9 [==============================] - 1s 30ms/step - loss: 0.9266 - accuracy: 0.5152 - val_loss: 0.7260 - val_accuracy: 0.5076\n",
            "Epoch 2/400\n",
            "9/9 [==============================] - 0s 5ms/step - loss: 0.8567 - accuracy: 0.4829 - val_loss: 0.7058 - val_accuracy: 0.5227\n",
            "Epoch 3/400\n",
            "9/9 [==============================] - 0s 5ms/step - loss: 0.8250 - accuracy: 0.5190 - val_loss: 0.6976 - val_accuracy: 0.5455\n",
            "Epoch 4/400\n",
            "9/9 [==============================] - 0s 6ms/step - loss: 0.7960 - accuracy: 0.5323 - val_loss: 0.6950 - val_accuracy: 0.5152\n",
            "Epoch 5/400\n",
            "9/9 [==============================] - 0s 7ms/step - loss: 0.8438 - accuracy: 0.5000 - val_loss: 0.6937 - val_accuracy: 0.5758\n",
            "Epoch 6/400\n",
            "9/9 [==============================] - 0s 8ms/step - loss: 0.7913 - accuracy: 0.5247 - val_loss: 0.6926 - val_accuracy: 0.5303\n",
            "Epoch 7/400\n",
            "9/9 [==============================] - 0s 6ms/step - loss: 0.7819 - accuracy: 0.5342 - val_loss: 0.6879 - val_accuracy: 0.5227\n",
            "Epoch 8/400\n",
            "9/9 [==============================] - 0s 5ms/step - loss: 0.7402 - accuracy: 0.5304 - val_loss: 0.6856 - val_accuracy: 0.5379\n",
            "Epoch 9/400\n",
            "9/9 [==============================] - 0s 5ms/step - loss: 0.7280 - accuracy: 0.5399 - val_loss: 0.6834 - val_accuracy: 0.5606\n",
            "Epoch 10/400\n",
            "9/9 [==============================] - 0s 8ms/step - loss: 0.7403 - accuracy: 0.5209 - val_loss: 0.6850 - val_accuracy: 0.5379\n",
            "Epoch 11/400\n",
            "9/9 [==============================] - 0s 5ms/step - loss: 0.7205 - accuracy: 0.5190 - val_loss: 0.6813 - val_accuracy: 0.5152\n",
            "Epoch 12/400\n",
            "9/9 [==============================] - 0s 8ms/step - loss: 0.7073 - accuracy: 0.5475 - val_loss: 0.6783 - val_accuracy: 0.5303\n",
            "Epoch 13/400\n",
            "9/9 [==============================] - 0s 5ms/step - loss: 0.7060 - accuracy: 0.5437 - val_loss: 0.6784 - val_accuracy: 0.5227\n",
            "Epoch 14/400\n",
            "9/9 [==============================] - 0s 6ms/step - loss: 0.7048 - accuracy: 0.5532 - val_loss: 0.6750 - val_accuracy: 0.5000\n",
            "Epoch 15/400\n",
            "9/9 [==============================] - 0s 6ms/step - loss: 0.6962 - accuracy: 0.5494 - val_loss: 0.6766 - val_accuracy: 0.5606\n",
            "Epoch 16/400\n",
            "9/9 [==============================] - 0s 5ms/step - loss: 0.7160 - accuracy: 0.5095 - val_loss: 0.6754 - val_accuracy: 0.5455\n",
            "Epoch 17/400\n",
            "9/9 [==============================] - 0s 8ms/step - loss: 0.7039 - accuracy: 0.5437 - val_loss: 0.6759 - val_accuracy: 0.5606\n",
            "Epoch 18/400\n",
            "9/9 [==============================] - 0s 6ms/step - loss: 0.7076 - accuracy: 0.5437 - val_loss: 0.6768 - val_accuracy: 0.5606\n",
            "Epoch 19/400\n",
            "9/9 [==============================] - 0s 6ms/step - loss: 0.6905 - accuracy: 0.5703 - val_loss: 0.6769 - val_accuracy: 0.5379\n",
            "Epoch 00019: early stopping\n",
            "\n",
            "\t ANN model evaluation\n",
            "[[33 31]\n",
            " [22 46]]\n",
            "\n",
            "\n",
            "              precision    recall  f1-score   support\n",
            "\n",
            "           0       0.60      0.52      0.55        64\n",
            "           1       0.60      0.68      0.63        68\n",
            "\n",
            "    accuracy                           0.60       132\n",
            "   macro avg       0.60      0.60      0.59       132\n",
            "weighted avg       0.60      0.60      0.60       132\n",
            "\n"
          ]
        }
      ],
      "source": [
        "import tensorflow as tf\n",
        "from tensorflow.keras.models import Sequential\n",
        "from tensorflow.keras.layers import Dense, Activation, Dropout\n",
        "from tensorflow.keras.callbacks import EarlyStopping\n",
        "\n",
        "model = Sequential()\n",
        "model.add(Dense(units=60, activation='relu'))\n",
        "model.add(Dropout(0.5))     # minimizing overfitting with dropout layer\n",
        "\n",
        "model.add(Dense(units=15, activation='relu'))\n",
        "model.add(Dropout(0.5))\n",
        "\n",
        "model.add(Dense(units=1, activation='sigmoid'))\n",
        "model.compile(loss='binary_crossentropy', optimizer='rmsprop', metrics=['accuracy'])\n",
        "\n",
        "early_stop = EarlyStopping(monitor='val_loss', mode='min', verbose=1, patience=5)\n",
        "model.fit(x=X_train,\n",
        "          y=y_train,\n",
        "          epochs=400,\n",
        "          batch_size=64,\n",
        "          validation_data=(X_test, y_test), verbose=1,\n",
        "          callbacks=[early_stop]\n",
        "          )\n",
        "\n",
        "predictions = (model.predict(X_test) > 0.5).astype(\"int32\")\n",
        "evaluation_report('ANN')"
      ]
    },
    {
      "cell_type": "markdown",
      "metadata": {
        "id": "3qIu4jx4cOrA"
      },
      "source": [
        "*We achieved 60% accuracy with this method.*"
      ]
    },
    {
      "cell_type": "markdown",
      "metadata": {
        "id": "0k9k8PWgchwb"
      },
      "source": [
        "Overall with this dataset, k-nearest neighbors (KNN) algorithm has shown the best accuracy with the lowest false-positive and false-negative prediction rates. This could be explained by the fact that it can classify non-linearly separable datasets."
      ]
    }
  ],
  "metadata": {
    "colab": {
      "collapsed_sections": [],
      "name": "Find_genes_of_age-related_deseases.ipynb",
      "provenance": []
    },
    "kernelspec": {
      "display_name": "Python 3",
      "name": "python3"
    },
    "language_info": {
      "name": "python"
    }
  },
  "nbformat": 4,
  "nbformat_minor": 0
}
