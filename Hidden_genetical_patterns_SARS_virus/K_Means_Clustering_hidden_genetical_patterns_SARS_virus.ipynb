{
  "nbformat": 4,
  "nbformat_minor": 0,
  "metadata": {
    "colab": {
      "name": "Hidden_genetical_patterns_SARS_virus_K-Means_Clustering.ipynb",
      "provenance": [],
      "collapsed_sections": []
    },
    "kernelspec": {
      "name": "python3",
      "display_name": "Python 3"
    },
    "language_info": {
      "name": "python"
    }
  },
  "cells": [
    {
      "cell_type": "markdown",
      "metadata": {
        "id": "SsRq08Tamovk"
      },
      "source": [
        "This project focused on differential gene expression analysis. We will utilize an unsupervised learning approach, using K-Means clustering to find the hidden patterns inside the datasets and form clusters based on genes co-expression under condition of SARS infection.\n",
        "\n",
        "The dataset includes readings of fluorescence tags emissions from the microarray gene expression analysis method. ID_REF column refers to the sample slot ids, and the corresponding columns represent reading intensities from control and infected sets."
      ]
    },
    {
      "cell_type": "markdown",
      "metadata": {
        "id": "ILrKUftRoi-K"
      },
      "source": [
        "# First, let's install some of the required libraries.\n"
      ]
    },
    {
      "cell_type": "code",
      "metadata": {
        "id": "r6q0ujX02EdJ"
      },
      "source": [
        "pip install pandas\n"
      ],
      "execution_count": null,
      "outputs": []
    },
    {
      "cell_type": "code",
      "metadata": {
        "colab": {
          "base_uri": "https://localhost:8080/"
        },
        "id": "nLOjTc_T3XiK",
        "outputId": "63b199e0-d8b3-4e51-f709-d8aaf0d2ead1"
      },
      "source": [
        "pip install -U scikit-learn"
      ],
      "execution_count": 2,
      "outputs": [
        {
          "output_type": "stream",
          "text": [
            "Requirement already satisfied: scikit-learn in /usr/local/lib/python3.7/dist-packages (0.22.2.post1)\n",
            "Collecting scikit-learn\n",
            "  Downloading scikit_learn-0.24.2-cp37-cp37m-manylinux2010_x86_64.whl (22.3 MB)\n",
            "\u001b[K     |████████████████████████████████| 22.3 MB 35 kB/s \n",
            "\u001b[?25hRequirement already satisfied: scipy>=0.19.1 in /usr/local/lib/python3.7/dist-packages (from scikit-learn) (1.4.1)\n",
            "Requirement already satisfied: joblib>=0.11 in /usr/local/lib/python3.7/dist-packages (from scikit-learn) (1.0.1)\n",
            "Collecting threadpoolctl>=2.0.0\n",
            "  Downloading threadpoolctl-2.2.0-py3-none-any.whl (12 kB)\n",
            "Requirement already satisfied: numpy>=1.13.3 in /usr/local/lib/python3.7/dist-packages (from scikit-learn) (1.19.5)\n",
            "Installing collected packages: threadpoolctl, scikit-learn\n",
            "  Attempting uninstall: scikit-learn\n",
            "    Found existing installation: scikit-learn 0.22.2.post1\n",
            "    Uninstalling scikit-learn-0.22.2.post1:\n",
            "      Successfully uninstalled scikit-learn-0.22.2.post1\n",
            "Successfully installed scikit-learn-0.24.2 threadpoolctl-2.2.0\n"
          ],
          "name": "stdout"
        }
      ]
    },
    {
      "cell_type": "markdown",
      "metadata": {
        "id": "thaGsmdS33q6"
      },
      "source": [
        "# Importing libraries"
      ]
    },
    {
      "cell_type": "code",
      "metadata": {
        "id": "barfiARm38jo"
      },
      "source": [
        "import pandas as pd\n",
        "import seaborn as sns\n",
        "import matplotlib as mpl\n",
        "import matplotlib.pyplot as plt\n",
        "import numpy as np\n",
        "from sklearn.cluster import KMeans\n",
        "pd.set_option('display.max_columns', None)\n",
        "pd.set_option('display.max_colwidth', None)\n",
        "pd.set_option('max_seq_item', None)\n",
        "pd.set_option('display.width', 1000)"
      ],
      "execution_count": 3,
      "outputs": []
    },
    {
      "cell_type": "markdown",
      "metadata": {
        "id": "tHe4AM333qTG"
      },
      "source": [
        "# Importing the file:"
      ]
    },
    {
      "cell_type": "code",
      "metadata": {
        "id": "eKMInyPU3hFi",
        "colab": {
          "base_uri": "https://localhost:8080/"
        },
        "outputId": "129c1c4e-ef3f-4319-eb43-731f944d1c4a"
      },
      "source": [
        "!wget https://raw.githubusercontent.com/dmy-collab/shared-projects/main/Hidden_genetical_patterns_SARS_virus/SARS_expression.csv\n",
        "dataset = pd.read_csv('SARS_expression.csv')"
      ],
      "execution_count": 4,
      "outputs": [
        {
          "output_type": "stream",
          "text": [
            "--2021-08-03 17:01:08--  https://raw.githubusercontent.com/dmy-collab/shared-projects/main/Hidden_genetical_patterns_SARS_virus/SARS_expression.csv\n",
            "Resolving raw.githubusercontent.com (raw.githubusercontent.com)... 185.199.108.133, 185.199.109.133, 185.199.110.133, ...\n",
            "Connecting to raw.githubusercontent.com (raw.githubusercontent.com)|185.199.108.133|:443... connected.\n",
            "HTTP request sent, awaiting response... 200 OK\n",
            "Length: 235271 (230K) [text/plain]\n",
            "Saving to: ‘SARS_expression.csv.1’\n",
            "\n",
            "\rSARS_expression.csv   0%[                    ]       0  --.-KB/s               \rSARS_expression.csv 100%[===================>] 229.76K  --.-KB/s    in 0.01s   \n",
            "\n",
            "2021-08-03 17:01:08 (16.8 MB/s) - ‘SARS_expression.csv.1’ saved [235271/235271]\n",
            "\n"
          ],
          "name": "stdout"
        }
      ]
    },
    {
      "cell_type": "markdown",
      "metadata": {
        "id": "k-1NKqUn44S-"
      },
      "source": [
        "# Initial analysis:"
      ]
    },
    {
      "cell_type": "code",
      "metadata": {
        "colab": {
          "base_uri": "https://localhost:8080/"
        },
        "id": "4l9LwY-g43n0",
        "outputId": "d3d47801-3104-436e-c428-0cd4e5fed072"
      },
      "source": [
        "print(dataset.shape)\n",
        "print(dataset.head())\n",
        "print(dataset.describe())\n",
        "nulls = dataset.isnull().sum().to_frame()   # searching for missing values\n",
        "for index, row in nulls.iterrows():\n",
        "    print(index, row[0])"
      ],
      "execution_count": 5,
      "outputs": [
        {
          "output_type": "stream",
          "text": [
            "(3949, 9)\n",
            "      ID_REF  Control_1  Control_2  Control_3  Control_4  SARS_Infected_1  SARS_Infected_2  SARS_Infected_3  SARS_Infected_4\n",
            "0  1007_s_at      321.8      257.1      331.0      366.8            205.2            223.9            262.1            313.5\n",
            "1    1053_at      204.8      293.5      217.4      261.8            215.8            265.6             56.1            203.5\n",
            "2     117_at      538.6      367.0      529.0      362.1            561.1            365.4            275.6           1037.3\n",
            "3     121_at     1277.8      880.2     1031.8     1036.1            790.9           1016.1           1165.7           1189.1\n",
            "4    1294_at      645.1      593.9      673.9      702.3            628.2            511.1            280.9            690.1\n",
            "          Control_1     Control_2     Control_3     Control_4  SARS_Infected_1  SARS_Infected_2  SARS_Infected_3  SARS_Infected_4\n",
            "count   3949.000000   3949.000000   3949.000000   3949.000000      3949.000000      3949.000000      3949.000000      3949.000000\n",
            "mean    1349.004178   1358.266473   1371.688858   1269.811421      1561.234363      1884.057787      2135.901722      1677.918866\n",
            "std     2363.268021   2294.937528   2365.710826   1911.297307      3680.474674      6231.107749     11407.198298      4544.561359\n",
            "min       20.600000      5.900000      3.200000     10.700000         3.300000         0.800000         4.900000         1.900000\n",
            "25%      309.700000    290.200000    295.800000    308.600000       251.500000       234.500000       260.500000       219.400000\n",
            "50%      641.100000    621.300000    622.700000    641.000000       532.600000       504.200000       515.100000       472.200000\n",
            "75%     1319.700000   1340.900000   1352.500000   1351.000000      1225.000000      1192.400000      1119.300000      1172.200000\n",
            "max    22523.300000  18412.700000  19892.100000  14699.900000     45068.500000    113747.300000    308413.600000     64303.300000\n",
            "ID_REF 0\n",
            "Control_1 0\n",
            "Control_2 0\n",
            "Control_3 0\n",
            "Control_4 0\n",
            "SARS_Infected_1 0\n",
            "SARS_Infected_2 0\n",
            "SARS_Infected_3 0\n",
            "SARS_Infected_4 0\n"
          ],
          "name": "stdout"
        }
      ]
    },
    {
      "cell_type": "markdown",
      "metadata": {
        "id": "tjcizjkzlAel"
      },
      "source": [
        "\n",
        "\n",
        "# Separating values for infected samples:\n",
        "\n"
      ]
    },
    {
      "cell_type": "code",
      "metadata": {
        "colab": {
          "base_uri": "https://localhost:8080/"
        },
        "id": "iPKPQDCRlNH9",
        "outputId": "5548d159-7e27-4eb4-fabc-0ae97af64d3e"
      },
      "source": [
        "new_data = dataset.iloc[:, 5:]\n",
        "print(new_data.head())"
      ],
      "execution_count": 6,
      "outputs": [
        {
          "output_type": "stream",
          "text": [
            "   SARS_Infected_1  SARS_Infected_2  SARS_Infected_3  SARS_Infected_4\n",
            "0            205.2            223.9            262.1            313.5\n",
            "1            215.8            265.6             56.1            203.5\n",
            "2            561.1            365.4            275.6           1037.3\n",
            "3            790.9           1016.1           1165.7           1189.1\n",
            "4            628.2            511.1            280.9            690.1\n"
          ],
          "name": "stdout"
        }
      ]
    },
    {
      "cell_type": "markdown",
      "metadata": {
        "id": "KWv2iUDxlTo3"
      },
      "source": [
        "# Determining the optimal value of K using the \"elbow\" method:"
      ]
    },
    {
      "cell_type": "code",
      "metadata": {
        "colab": {
          "base_uri": "https://localhost:8080/",
          "height": 331
        },
        "id": "JXrqTARyldH1",
        "outputId": "fb5a7af7-8cf3-40fa-96e7-2b4229e8d2fb"
      },
      "source": [
        "wcss = []   # within cluster sum of squares (measures the variability of the observations within each cluster)\n",
        "for i in range(1, 20):\n",
        "    kmeans = KMeans(n_clusters=i, init='k-means++', random_state=150)\n",
        "    kmeans.fit(new_data)\n",
        "    wcss.append(kmeans.inertia_)\n",
        "plt.plot(range(1, 20), wcss, color='k')\n",
        "plt.title(\"The Elbow Method (SARS infected)\")\n",
        "plt.xlabel('Number of clusters')\n",
        "plt.ylabel('WCSS')\n",
        "plt.show()      \n",
        "print(f'\\n cluster labels: {kmeans.labels_}')"
      ],
      "execution_count": 7,
      "outputs": [
        {
          "output_type": "display_data",
          "data": {
            "image/png": "[encoded data removed]",
            "text/plain": [
              "<Figure size 432x288 with 1 Axes>"
            ]
          },
          "metadata": {
            "tags": [],
            "needs_background": "light"
          }
        },
        {
          "output_type": "stream",
          "text": [
            "\n",
            " cluster labels: [16 16 16 ... 17  8  8]\n"
          ],
          "name": "stdout"
        }
      ]
    },
    {
      "cell_type": "markdown",
      "metadata": {
        "id": "hqowan5Mn2ww"
      },
      "source": [
        "*From the graph, we can infer that 18 - is the optimal number of clusters (adding more clusters wouldn't provide much better modeling of the data). Let's assign this cluster number to the to the GenBank  accession IDs:*\n"
      ]
    },
    {
      "cell_type": "markdown",
      "metadata": {
        "id": "hkJoPhKloG0s"
      },
      "source": [
        "# Let's assign the cluster number retrieved from the step above to the ID_REF:"
      ]
    },
    {
      "cell_type": "code",
      "metadata": {
        "colab": {
          "base_uri": "https://localhost:8080/"
        },
        "id": "8Qa2_2iDCBnW",
        "outputId": "66d6c1b4-7b34-441d-a5e3-4b9edde56c21"
      },
      "source": [
        "cluster_genes =\\\n",
        "    pd.concat([dataset.iloc[:, 0], pd.DataFrame(kmeans.labels_)], axis=1)\n",
        "cluster_genes.columns = ['ID_REF', 'Groups']\n",
        "print(cluster_genes.head())"
      ],
      "execution_count": 8,
      "outputs": [
        {
          "output_type": "stream",
          "text": [
            "      ID_REF  Groups\n",
            "0  1007_s_at      16\n",
            "1    1053_at      16\n",
            "2     117_at      16\n",
            "3     121_at      12\n",
            "4    1294_at      16\n"
          ],
          "name": "stdout"
        }
      ]
    },
    {
      "cell_type": "markdown",
      "metadata": {
        "id": "7tiEifdOByFw"
      },
      "source": [
        "# Grouping genes into respective clusters:"
      ]
    },
    {
      "cell_type": "code",
      "metadata": {
        "colab": {
          "base_uri": "https://localhost:8080/"
        },
        "id": "YEc_i82kB076",
        "outputId": "25718de4-b49f-4f19-a05d-4cf33ebcdff4"
      },
      "source": [
        "cluster = cluster_genes.groupby('Groups')\n",
        "print(cluster.describe()) "
      ],
      "execution_count": 9,
      "outputs": [
        {
          "output_type": "stream",
          "text": [
            "       ID_REF                                 \n",
            "        count unique                  top freq\n",
            "Groups                                        \n",
            "0         209    209            201256_at    1\n",
            "1           6      6            201094_at    1\n",
            "2          19     19          200099_s_at    1\n",
            "3           2      2       AFFX-CreX-3_at    1\n",
            "4          10     10          200834_s_at    1\n",
            "5          30     30          201315_x_at    1\n",
            "6          50     50          202803_s_at    1\n",
            "7          96     96          208697_s_at    1\n",
            "8           2      2  AFFX-r2-P1-cre-5_at    1\n",
            "9           3      3          214414_x_at    1\n",
            "10          1      1          202917_s_at    1\n",
            "11          6      6            200021_at    1\n",
            "12        895    895          208783_s_at    1\n",
            "13         18     18          206390_x_at    1\n",
            "14         52     52          201553_s_at    1\n",
            "15          7      7          216526_x_at    1\n",
            "16       2376   2376          202666_s_at    1\n",
            "17          4      4      AFFX-BioDn-3_at    1\n",
            "18        163    163            208691_at    1\n"
          ],
          "name": "stdout"
        }
      ]
    },
    {
      "cell_type": "markdown",
      "metadata": {
        "id": "-_51EGHrwf7e"
      },
      "source": [
        "*Cluster 0 has the highest N of genes - 2739. Let's retrieve this cluster:*"
      ]
    },
    {
      "cell_type": "code",
      "metadata": {
        "colab": {
          "base_uri": "https://localhost:8080/"
        },
        "id": "HW5U_MdMxXxi",
        "outputId": "43e31f5e-87d8-4e29-8f63-2c969469e453"
      },
      "source": [
        "cluster = {k: v for k, v in cluster_genes.groupby('Groups')}\n",
        "print('\\nCluster with the highest number of genes:\\n')\n",
        "print(cluster[0])"
      ],
      "execution_count": 10,
      "outputs": [
        {
          "output_type": "stream",
          "text": [
            "\n",
            "Cluster with the highest number of genes:\n",
            "\n",
            "           ID_REF  Groups\n",
            "10      200001_at       0\n",
            "14      200005_at       0\n",
            "50    200041_s_at       0\n",
            "57    200048_s_at       0\n",
            "63      200055_at       0\n",
            "...           ...     ...\n",
            "3857     36994_at       0\n",
            "3858     37012_at       0\n",
            "3860     37145_at       0\n",
            "3908     55705_at       0\n",
            "3920     90610_at       0\n",
            "\n",
            "[209 rows x 2 columns]\n"
          ],
          "name": "stdout"
        }
      ]
    },
    {
      "cell_type": "markdown",
      "metadata": {
        "id": "XgHPREL5x2at"
      },
      "source": [
        "This information provides a solid starting point for further research supported with literature and the pathway analysis of these genes, along with the gene enrichment analysis."
      ]
    }
  ]
}