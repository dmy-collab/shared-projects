{
  "nbformat": 4,
  "nbformat_minor": 0,
  "metadata": {
    "colab": {
      "name": "Copy of template.ipynb",
      "provenance": [],
      "collapsed_sections": []
    },
    "kernelspec": {
      "name": "python3",
      "display_name": "Python 3"
    },
    "language_info": {
      "name": "python"
    }
  },
  "cells": [
    {
      "cell_type": "markdown",
      "metadata": {
        "id": "SsRq08Tamovk"
      },
      "source": [
        "In this project we will utilize artificial neural network approach for predicting the chances of patients to have diabetes.\n",
        "The dataset comprises patients' IDs and some medical criteria like pregnancy,  blood plasma glucose level, blood pressure, triceps thickness, etc. Diabetic patients are marked with 1, and non-diabetic with 0, which is a classical binary classification problem."
      ]
    },
    {
      "cell_type": "markdown",
      "metadata": {
        "id": "ILrKUftRoi-K"
      },
      "source": [
        "# First, let's install some of the required libraries.\n"
      ]
    },
    {
      "cell_type": "code",
      "metadata": {
        "id": "r6q0ujX02EdJ"
      },
      "source": [
        "pip install pandas\n"
      ],
      "execution_count": null,
      "outputs": []
    },
    {
      "cell_type": "code",
      "metadata": {
        "colab": {
          "base_uri": "https://localhost:8080/"
        },
        "id": "nLOjTc_T3XiK",
        "outputId": "54a5294a-de9f-4fbf-f63b-da41ba7914f0"
      },
      "source": [
        "pip install -U scikit-learn"
      ],
      "execution_count": null,
      "outputs": [
        {
          "output_type": "stream",
          "text": [
            "Requirement already satisfied: scikit-learn in /usr/local/lib/python3.7/dist-packages (0.22.2.post1)\n",
            "Collecting scikit-learn\n",
            "  Downloading scikit_learn-0.24.2-cp37-cp37m-manylinux2010_x86_64.whl (22.3 MB)\n",
            "\u001b[K     |████████████████████████████████| 22.3 MB 1.4 MB/s \n",
            "\u001b[?25hCollecting threadpoolctl>=2.0.0\n",
            "  Downloading threadpoolctl-2.2.0-py3-none-any.whl (12 kB)\n",
            "Requirement already satisfied: numpy>=1.13.3 in /usr/local/lib/python3.7/dist-packages (from scikit-learn) (1.19.5)\n",
            "Requirement already satisfied: scipy>=0.19.1 in /usr/local/lib/python3.7/dist-packages (from scikit-learn) (1.4.1)\n",
            "Requirement already satisfied: joblib>=0.11 in /usr/local/lib/python3.7/dist-packages (from scikit-learn) (1.0.1)\n",
            "Installing collected packages: threadpoolctl, scikit-learn\n",
            "  Attempting uninstall: scikit-learn\n",
            "    Found existing installation: scikit-learn 0.22.2.post1\n",
            "    Uninstalling scikit-learn-0.22.2.post1:\n",
            "      Successfully uninstalled scikit-learn-0.22.2.post1\n",
            "Successfully installed scikit-learn-0.24.2 threadpoolctl-2.2.0\n"
          ],
          "name": "stdout"
        }
      ]
    },
    {
      "cell_type": "markdown",
      "metadata": {
        "id": "thaGsmdS33q6"
      },
      "source": [
        "# Importing some of the libraries:"
      ]
    },
    {
      "cell_type": "code",
      "metadata": {
        "id": "barfiARm38jo"
      },
      "source": [
        "import pandas as pd\n",
        "import matplotlib.pyplot as plt\n",
        "import tensorflow as tf\n",
        "from sklearn.metrics import classification_report, confusion_matrix\n",
        "pd.set_option('display.max_columns', None)\n",
        "pd.set_option('display.max_colwidth', None)\n",
        "pd.set_option('max_seq_item', None)\n",
        "pd.set_option('display.width', 1000)"
      ],
      "execution_count": 1,
      "outputs": []
    },
    {
      "cell_type": "markdown",
      "metadata": {
        "id": "tHe4AM333qTG"
      },
      "source": [
        "# Importing the file:"
      ]
    },
    {
      "cell_type": "code",
      "metadata": {
        "id": "eKMInyPU3hFi",
        "colab": {
          "base_uri": "https://localhost:8080/"
        },
        "outputId": "ab475ee3-cbe8-456f-e574-eb549115a83d"
      },
      "source": [
        "!wget https://raw.githubusercontent.com/dmy-collab/shared-projects/main/neural_network_predicting_diabetes/diabetes.csv"
      ],
      "execution_count": null,
      "outputs": [
        {
          "output_type": "stream",
          "text": [
            "--2021-08-03 21:36:01--  https://raw.githubusercontent.com/dmy-collab/shared-projects/main/neural_network_predicting_diabetes/diabetes.csv\n",
            "Resolving raw.githubusercontent.com (raw.githubusercontent.com)... 185.199.108.133, 185.199.110.133, 185.199.109.133, ...\n",
            "Connecting to raw.githubusercontent.com (raw.githubusercontent.com)|185.199.108.133|:443... connected.\n",
            "HTTP request sent, awaiting response... 200 OK\n",
            "Length: 776415 (758K) [text/plain]\n",
            "Saving to: ‘diabetes.csv.1’\n",
            "\n",
            "diabetes.csv.1      100%[===================>] 758.22K  --.-KB/s    in 0.02s   \n",
            "\n",
            "2021-08-03 21:36:01 (40.9 MB/s) - ‘diabetes.csv.1’ saved [776415/776415]\n",
            "\n"
          ],
          "name": "stdout"
        }
      ]
    },
    {
      "cell_type": "markdown",
      "metadata": {
        "id": "k-1NKqUn44S-"
      },
      "source": [
        "# Initial analysis:"
      ]
    },
    {
      "cell_type": "code",
      "metadata": {
        "colab": {
          "base_uri": "https://localhost:8080/"
        },
        "id": "4l9LwY-g43n0",
        "outputId": "a201611c-79d4-4544-e1ce-177d420b186c"
      },
      "source": [
        "dataset = pd.read_csv('diabetes.csv')\n",
        "print(dataset.shape)\n",
        "print(dataset.describe())\n",
        "dataset['Diabetic'].value_counts()\n",
        "nulls = dataset.isnull().sum().to_frame()   # searching for missing values\n",
        "for index, row in nulls.iterrows():\n",
        "    print(index, row[0])"
      ],
      "execution_count": 2,
      "outputs": [
        {
          "output_type": "stream",
          "text": [
            "(15000, 10)\n",
            "          PatientID   Pregnancies  PlasmaGlucose  DiastolicBloodPressure  TricepsThickness  SerumInsulin           BMI  DiabetesPedigree           Age      Diabetic\n",
            "count  1.500000e+04  15000.000000   15000.000000            15000.000000      15000.000000  15000.000000  15000.000000      15000.000000  15000.000000  15000.000000\n",
            "mean   1.502922e+06      3.224533     107.856867               71.220667         28.814000    137.852133     31.509646          0.398968     30.137733      0.333333\n",
            "std    2.892534e+05      3.391020      31.981975               16.758716         14.555716    133.068252      9.759000          0.377944     12.089703      0.471420\n",
            "min    1.000038e+06      0.000000      44.000000               24.000000          7.000000     14.000000     18.200512          0.078044     21.000000      0.000000\n",
            "25%    1.252866e+06      0.000000      84.000000               58.000000         15.000000     39.000000     21.259887          0.137743     22.000000      0.000000\n",
            "50%    1.505508e+06      2.000000     104.000000               72.000000         31.000000     83.000000     31.767940          0.200297     24.000000      0.000000\n",
            "75%    1.755205e+06      6.000000     129.000000               85.000000         41.000000    195.000000     39.259692          0.616285     35.000000      1.000000\n",
            "max    1.999997e+06     14.000000     192.000000              117.000000         93.000000    799.000000     56.034628          2.301594     77.000000      1.000000\n",
            "PatientID 0\n",
            "Pregnancies 0\n",
            "PlasmaGlucose 0\n",
            "DiastolicBloodPressure 0\n",
            "TricepsThickness 0\n",
            "SerumInsulin 0\n",
            "BMI 0\n",
            "DiabetesPedigree 0\n",
            "Age 0\n",
            "Diabetic 0\n"
          ],
          "name": "stdout"
        }
      ]
    },
    {
      "cell_type": "markdown",
      "metadata": {
        "id": "7h1pH_r15fwm"
      },
      "source": [
        "# Splitting the dataset on features and labels:"
      ]
    },
    {
      "cell_type": "code",
      "metadata": {
        "id": "kXzCFNwm5lwU"
      },
      "source": [
        "X = dataset.iloc[:, 1:-1].values    # features\n",
        "y = dataset.iloc[:, -1].values      # labels"
      ],
      "execution_count": 3,
      "outputs": []
    },
    {
      "cell_type": "markdown",
      "metadata": {
        "id": "6mR9UfaS5tyW"
      },
      "source": [
        "# Data scaling:"
      ]
    },
    {
      "cell_type": "code",
      "metadata": {
        "id": "Xg9lmkz15xQf"
      },
      "source": [
        "from sklearn.preprocessing import StandardScaler\n",
        "sc = StandardScaler()\n",
        "X_norm = sc.fit_transform(X)\n",
        "X = X_norm"
      ],
      "execution_count": 4,
      "outputs": []
    },
    {
      "cell_type": "markdown",
      "metadata": {
        "id": "0cDvRNnZ_PcQ"
      },
      "source": [
        "\n",
        "\n",
        "> **Splitting the dataset into the Training set and Test set:**\n",
        "\n"
      ]
    },
    {
      "cell_type": "code",
      "metadata": {
        "id": "D7F50tzO_amq"
      },
      "source": [
        "from sklearn.model_selection import train_test_split\n",
        "X_train, X_test, y_train, y_test = train_test_split(X_norm, y, test_size=0.25, random_state=101)"
      ],
      "execution_count": 5,
      "outputs": []
    },
    {
      "cell_type": "markdown",
      "metadata": {
        "id": "0bPmC82qbtNK"
      },
      "source": [
        "# Training the artificial neural network (ANN) model and evaluation:"
      ]
    },
    {
      "cell_type": "code",
      "metadata": {
        "id": "SkWs_VEjby_g"
      },
      "source": [
        "from tensorflow.keras.models import Sequential\n",
        "from tensorflow.keras.layers import Dense, Activation, Dropout\n",
        "from tensorflow.keras.callbacks import EarlyStopping\n",
        "\n",
        "model = Sequential()\n",
        "model.add(Dense(units=8, activation='relu', input_shape=(8,))) # N=8 - from number of features\n",
        "model.add(Dropout(0.5))     # minimizing overfitting with dropout layer\n",
        "\n",
        "model.add(Dense(units=5, activation='relu'))  # # (N of features + N of output)/2\n",
        "model.add(Dropout(0.5))\n",
        "\n",
        "model.add(Dense(units=1, activation='sigmoid'))"
      ],
      "execution_count": 6,
      "outputs": []
    },
    {
      "cell_type": "markdown",
      "metadata": {
        "id": "cBFXLNvcsQhw"
      },
      "source": [
        "# Choosing an optimizer and loss (in case of this dataset - for a binary classification problem):"
      ]
    },
    {
      "cell_type": "code",
      "metadata": {
        "colab": {
          "base_uri": "https://localhost:8080/"
        },
        "id": "hKdFlXSBsakx",
        "outputId": "2cdc7816-64b5-46e8-bb1b-08f5eefa6fb9"
      },
      "source": [
        "model.compile(loss='binary_crossentropy', optimizer='adam', metrics=['accuracy'])\n",
        "print(f\"\\n\\tModel summary: \\n{model.summary()}\")\n"
      ],
      "execution_count": 7,
      "outputs": [
        {
          "output_type": "stream",
          "text": [
            "Model: \"sequential\"\n",
            "_________________________________________________________________\n",
            "Layer (type)                 Output Shape              Param #   \n",
            "=================================================================\n",
            "dense (Dense)                (None, 8)                 72        \n",
            "_________________________________________________________________\n",
            "dropout (Dropout)            (None, 8)                 0         \n",
            "_________________________________________________________________\n",
            "dense_1 (Dense)              (None, 5)                 45        \n",
            "_________________________________________________________________\n",
            "dropout_1 (Dropout)          (None, 5)                 0         \n",
            "_________________________________________________________________\n",
            "dense_2 (Dense)              (None, 1)                 6         \n",
            "=================================================================\n",
            "Total params: 123\n",
            "Trainable params: 123\n",
            "Non-trainable params: 0\n",
            "_________________________________________________________________\n",
            "\n",
            "\tModel summary: \n",
            "None\n"
          ],
          "name": "stdout"
        }
      ]
    },
    {
      "cell_type": "markdown",
      "metadata": {
        "id": "C6mgaTSksvRP"
      },
      "source": [
        "# Adding early stopping as an anti-overfitting approach:"
      ]
    },
    {
      "cell_type": "code",
      "metadata": {
        "id": "mxYkPAUFssdP"
      },
      "source": [
        "from tensorflow.keras.callbacks import EarlyStopping\n",
        "early_stop = EarlyStopping(monitor='val_loss', mode='min', verbose=1, patience=5)"
      ],
      "execution_count": 8,
      "outputs": []
    },
    {
      "cell_type": "markdown",
      "metadata": {
        "id": "3YcL7wNWtgdr"
      },
      "source": [
        "# Training the model:"
      ]
    },
    {
      "cell_type": "code",
      "metadata": {
        "colab": {
          "base_uri": "https://localhost:8080/"
        },
        "id": "cD_LV_3ztfUP",
        "outputId": "cdb13204-5d81-4f4a-9df8-08c43317691d"
      },
      "source": [
        "model.fit(x=X_train,\n",
        "          y=y_train,\n",
        "          epochs=400,\n",
        "          batch_size=64,\n",
        "          validation_data=(X_test, y_test), verbose=1,\n",
        "          callbacks=[early_stop]) # preventing overfitting\n"
      ],
      "execution_count": 9,
      "outputs": [
        {
          "output_type": "stream",
          "text": [
            "Epoch 1/400\n",
            "176/176 [==============================] - 1s 3ms/step - loss: 0.7390 - accuracy: 0.5781 - val_loss: 0.6319 - val_accuracy: 0.7264\n",
            "Epoch 2/400\n",
            "176/176 [==============================] - 0s 2ms/step - loss: 0.6260 - accuracy: 0.6766 - val_loss: 0.5620 - val_accuracy: 0.7173\n",
            "Epoch 3/400\n",
            "176/176 [==============================] - 0s 2ms/step - loss: 0.5911 - accuracy: 0.6928 - val_loss: 0.5239 - val_accuracy: 0.7408\n",
            "Epoch 4/400\n",
            "176/176 [==============================] - 0s 2ms/step - loss: 0.5622 - accuracy: 0.7062 - val_loss: 0.4929 - val_accuracy: 0.7635\n",
            "Epoch 5/400\n",
            "176/176 [==============================] - 0s 2ms/step - loss: 0.5461 - accuracy: 0.7202 - val_loss: 0.4747 - val_accuracy: 0.7755\n",
            "Epoch 6/400\n",
            "176/176 [==============================] - 0s 2ms/step - loss: 0.5375 - accuracy: 0.7308 - val_loss: 0.4632 - val_accuracy: 0.7861\n",
            "Epoch 7/400\n",
            "176/176 [==============================] - 0s 2ms/step - loss: 0.5272 - accuracy: 0.7337 - val_loss: 0.4536 - val_accuracy: 0.7885\n",
            "Epoch 8/400\n",
            "176/176 [==============================] - 0s 2ms/step - loss: 0.5188 - accuracy: 0.7389 - val_loss: 0.4480 - val_accuracy: 0.7915\n",
            "Epoch 9/400\n",
            "176/176 [==============================] - 0s 2ms/step - loss: 0.5110 - accuracy: 0.7406 - val_loss: 0.4369 - val_accuracy: 0.7923\n",
            "Epoch 10/400\n",
            "176/176 [==============================] - 0s 2ms/step - loss: 0.5104 - accuracy: 0.7397 - val_loss: 0.4327 - val_accuracy: 0.7947\n",
            "Epoch 11/400\n",
            "176/176 [==============================] - 0s 2ms/step - loss: 0.5036 - accuracy: 0.7409 - val_loss: 0.4268 - val_accuracy: 0.7976\n",
            "Epoch 12/400\n",
            "176/176 [==============================] - 0s 2ms/step - loss: 0.5011 - accuracy: 0.7440 - val_loss: 0.4198 - val_accuracy: 0.8008\n",
            "Epoch 13/400\n",
            "176/176 [==============================] - 0s 2ms/step - loss: 0.4950 - accuracy: 0.7478 - val_loss: 0.4122 - val_accuracy: 0.8045\n",
            "Epoch 14/400\n",
            "176/176 [==============================] - 0s 2ms/step - loss: 0.4893 - accuracy: 0.7469 - val_loss: 0.4066 - val_accuracy: 0.8096\n",
            "Epoch 15/400\n",
            "176/176 [==============================] - 0s 2ms/step - loss: 0.4824 - accuracy: 0.7516 - val_loss: 0.3983 - val_accuracy: 0.8128\n",
            "Epoch 16/400\n",
            "176/176 [==============================] - 0s 2ms/step - loss: 0.4848 - accuracy: 0.7476 - val_loss: 0.3963 - val_accuracy: 0.8131\n",
            "Epoch 17/400\n",
            "176/176 [==============================] - 0s 2ms/step - loss: 0.4766 - accuracy: 0.7567 - val_loss: 0.3889 - val_accuracy: 0.8160\n",
            "Epoch 18/400\n",
            "176/176 [==============================] - 0s 2ms/step - loss: 0.4637 - accuracy: 0.7548 - val_loss: 0.3824 - val_accuracy: 0.8211\n",
            "Epoch 19/400\n",
            "176/176 [==============================] - 0s 2ms/step - loss: 0.4696 - accuracy: 0.7594 - val_loss: 0.3804 - val_accuracy: 0.8216\n",
            "Epoch 20/400\n",
            "176/176 [==============================] - 0s 2ms/step - loss: 0.4704 - accuracy: 0.7613 - val_loss: 0.3738 - val_accuracy: 0.8272\n",
            "Epoch 21/400\n",
            "176/176 [==============================] - 0s 2ms/step - loss: 0.4662 - accuracy: 0.7580 - val_loss: 0.3697 - val_accuracy: 0.8277\n",
            "Epoch 22/400\n",
            "176/176 [==============================] - 0s 2ms/step - loss: 0.4696 - accuracy: 0.7578 - val_loss: 0.3687 - val_accuracy: 0.8285\n",
            "Epoch 23/400\n",
            "176/176 [==============================] - 0s 2ms/step - loss: 0.4633 - accuracy: 0.7635 - val_loss: 0.3645 - val_accuracy: 0.8299\n",
            "Epoch 24/400\n",
            "176/176 [==============================] - 0s 2ms/step - loss: 0.4590 - accuracy: 0.7639 - val_loss: 0.3622 - val_accuracy: 0.8320\n",
            "Epoch 25/400\n",
            "176/176 [==============================] - 0s 2ms/step - loss: 0.4540 - accuracy: 0.7661 - val_loss: 0.3579 - val_accuracy: 0.8328\n",
            "Epoch 26/400\n",
            "176/176 [==============================] - 0s 2ms/step - loss: 0.4621 - accuracy: 0.7663 - val_loss: 0.3585 - val_accuracy: 0.8347\n",
            "Epoch 27/400\n",
            "176/176 [==============================] - 0s 2ms/step - loss: 0.4625 - accuracy: 0.7604 - val_loss: 0.3595 - val_accuracy: 0.8339\n",
            "Epoch 28/400\n",
            "176/176 [==============================] - 0s 2ms/step - loss: 0.4636 - accuracy: 0.7644 - val_loss: 0.3609 - val_accuracy: 0.8357\n",
            "Epoch 29/400\n",
            "176/176 [==============================] - 0s 2ms/step - loss: 0.4518 - accuracy: 0.7692 - val_loss: 0.3555 - val_accuracy: 0.8357\n",
            "Epoch 30/400\n",
            "176/176 [==============================] - 0s 2ms/step - loss: 0.4521 - accuracy: 0.7651 - val_loss: 0.3524 - val_accuracy: 0.8363\n",
            "Epoch 31/400\n",
            "176/176 [==============================] - 0s 2ms/step - loss: 0.4530 - accuracy: 0.7647 - val_loss: 0.3524 - val_accuracy: 0.8389\n",
            "Epoch 32/400\n",
            "176/176 [==============================] - 0s 2ms/step - loss: 0.4593 - accuracy: 0.7694 - val_loss: 0.3524 - val_accuracy: 0.8387\n",
            "Epoch 33/400\n",
            "176/176 [==============================] - 0s 2ms/step - loss: 0.4518 - accuracy: 0.7667 - val_loss: 0.3495 - val_accuracy: 0.8395\n",
            "Epoch 34/400\n",
            "176/176 [==============================] - 0s 2ms/step - loss: 0.4517 - accuracy: 0.7696 - val_loss: 0.3482 - val_accuracy: 0.8411\n",
            "Epoch 35/400\n",
            "176/176 [==============================] - 0s 2ms/step - loss: 0.4522 - accuracy: 0.7665 - val_loss: 0.3487 - val_accuracy: 0.8397\n",
            "Epoch 36/400\n",
            "176/176 [==============================] - 0s 2ms/step - loss: 0.4456 - accuracy: 0.7718 - val_loss: 0.3483 - val_accuracy: 0.8397\n",
            "Epoch 37/400\n",
            "176/176 [==============================] - 0s 2ms/step - loss: 0.4499 - accuracy: 0.7710 - val_loss: 0.3463 - val_accuracy: 0.8397\n",
            "Epoch 38/400\n",
            "176/176 [==============================] - 0s 2ms/step - loss: 0.4463 - accuracy: 0.7732 - val_loss: 0.3429 - val_accuracy: 0.8421\n",
            "Epoch 39/400\n",
            "176/176 [==============================] - 0s 2ms/step - loss: 0.4519 - accuracy: 0.7700 - val_loss: 0.3459 - val_accuracy: 0.8419\n",
            "Epoch 40/400\n",
            "176/176 [==============================] - 0s 2ms/step - loss: 0.4433 - accuracy: 0.7745 - val_loss: 0.3413 - val_accuracy: 0.8445\n",
            "Epoch 41/400\n",
            "176/176 [==============================] - 0s 2ms/step - loss: 0.4504 - accuracy: 0.7717 - val_loss: 0.3437 - val_accuracy: 0.8456\n",
            "Epoch 42/400\n",
            "176/176 [==============================] - 0s 2ms/step - loss: 0.4496 - accuracy: 0.7711 - val_loss: 0.3410 - val_accuracy: 0.8443\n",
            "Epoch 43/400\n",
            "176/176 [==============================] - 0s 2ms/step - loss: 0.4499 - accuracy: 0.7743 - val_loss: 0.3414 - val_accuracy: 0.8459\n",
            "Epoch 44/400\n",
            "176/176 [==============================] - 0s 2ms/step - loss: 0.4469 - accuracy: 0.7737 - val_loss: 0.3410 - val_accuracy: 0.8443\n",
            "Epoch 45/400\n",
            "176/176 [==============================] - 0s 2ms/step - loss: 0.4471 - accuracy: 0.7715 - val_loss: 0.3388 - val_accuracy: 0.8453\n",
            "Epoch 46/400\n",
            "176/176 [==============================] - 0s 2ms/step - loss: 0.4499 - accuracy: 0.7766 - val_loss: 0.3404 - val_accuracy: 0.8461\n",
            "Epoch 47/400\n",
            "176/176 [==============================] - 0s 2ms/step - loss: 0.4453 - accuracy: 0.7753 - val_loss: 0.3385 - val_accuracy: 0.8472\n",
            "Epoch 48/400\n",
            "176/176 [==============================] - 0s 2ms/step - loss: 0.4426 - accuracy: 0.7810 - val_loss: 0.3368 - val_accuracy: 0.8477\n",
            "Epoch 49/400\n",
            "176/176 [==============================] - 0s 2ms/step - loss: 0.4416 - accuracy: 0.7803 - val_loss: 0.3373 - val_accuracy: 0.8472\n",
            "Epoch 50/400\n",
            "176/176 [==============================] - 0s 2ms/step - loss: 0.4454 - accuracy: 0.7740 - val_loss: 0.3380 - val_accuracy: 0.8472\n",
            "Epoch 51/400\n",
            "176/176 [==============================] - 0s 2ms/step - loss: 0.4476 - accuracy: 0.7745 - val_loss: 0.3384 - val_accuracy: 0.8469\n",
            "Epoch 52/400\n",
            "176/176 [==============================] - 0s 2ms/step - loss: 0.4504 - accuracy: 0.7769 - val_loss: 0.3379 - val_accuracy: 0.8461\n",
            "Epoch 53/400\n",
            "176/176 [==============================] - 0s 2ms/step - loss: 0.4413 - accuracy: 0.7764 - val_loss: 0.3367 - val_accuracy: 0.8472\n",
            "Epoch 54/400\n",
            "176/176 [==============================] - 0s 2ms/step - loss: 0.4442 - accuracy: 0.7753 - val_loss: 0.3361 - val_accuracy: 0.8483\n",
            "Epoch 55/400\n",
            "176/176 [==============================] - 0s 2ms/step - loss: 0.4392 - accuracy: 0.7798 - val_loss: 0.3361 - val_accuracy: 0.8501\n",
            "Epoch 56/400\n",
            "176/176 [==============================] - 0s 2ms/step - loss: 0.4450 - accuracy: 0.7740 - val_loss: 0.3381 - val_accuracy: 0.8469\n",
            "Epoch 57/400\n",
            "176/176 [==============================] - 0s 2ms/step - loss: 0.4424 - accuracy: 0.7793 - val_loss: 0.3352 - val_accuracy: 0.8477\n",
            "Epoch 58/400\n",
            "176/176 [==============================] - 0s 2ms/step - loss: 0.4458 - accuracy: 0.7753 - val_loss: 0.3371 - val_accuracy: 0.8501\n",
            "Epoch 59/400\n",
            "176/176 [==============================] - 0s 2ms/step - loss: 0.4469 - accuracy: 0.7796 - val_loss: 0.3345 - val_accuracy: 0.8501\n",
            "Epoch 60/400\n",
            "176/176 [==============================] - 0s 2ms/step - loss: 0.4452 - accuracy: 0.7801 - val_loss: 0.3367 - val_accuracy: 0.8507\n",
            "Epoch 61/400\n",
            "176/176 [==============================] - 0s 2ms/step - loss: 0.4438 - accuracy: 0.7755 - val_loss: 0.3379 - val_accuracy: 0.8485\n",
            "Epoch 62/400\n",
            "176/176 [==============================] - 0s 2ms/step - loss: 0.4409 - accuracy: 0.7807 - val_loss: 0.3332 - val_accuracy: 0.8525\n",
            "Epoch 63/400\n",
            "176/176 [==============================] - 0s 2ms/step - loss: 0.4407 - accuracy: 0.7748 - val_loss: 0.3342 - val_accuracy: 0.8528\n",
            "Epoch 64/400\n",
            "176/176 [==============================] - 0s 2ms/step - loss: 0.4392 - accuracy: 0.7764 - val_loss: 0.3345 - val_accuracy: 0.8504\n",
            "Epoch 65/400\n",
            "176/176 [==============================] - 0s 2ms/step - loss: 0.4494 - accuracy: 0.7742 - val_loss: 0.3388 - val_accuracy: 0.8523\n",
            "Epoch 66/400\n",
            "176/176 [==============================] - 0s 2ms/step - loss: 0.4380 - accuracy: 0.7790 - val_loss: 0.3332 - val_accuracy: 0.8507\n",
            "Epoch 67/400\n",
            "176/176 [==============================] - 0s 2ms/step - loss: 0.4410 - accuracy: 0.7762 - val_loss: 0.3347 - val_accuracy: 0.8517\n",
            "Epoch 00067: early stopping\n"
          ],
          "name": "stdout"
        },
        {
          "output_type": "execute_result",
          "data": {
            "text/plain": [
              "<tensorflow.python.keras.callbacks.History at 0x7fc499802910>"
            ]
          },
          "metadata": {
            "tags": []
          },
          "execution_count": 9
        }
      ]
    },
    {
      "cell_type": "markdown",
      "metadata": {
        "id": "BXYU0xsCtyCM"
      },
      "source": [
        "# Evaluation of overfitting:"
      ]
    },
    {
      "cell_type": "code",
      "metadata": {
        "colab": {
          "base_uri": "https://localhost:8080/",
          "height": 279
        },
        "id": "yhudcolatzhY",
        "outputId": "a3409308-d6d3-44c9-85ad-07bc929eab7b"
      },
      "source": [
        "model_performance = pd.DataFrame(model.history.history)\n",
        "ax = model_performance.plot()\n",
        "ax.set_xlabel('Epoch')\n",
        "plt.show()"
      ],
      "execution_count": 10,
      "outputs": [
        {
          "output_type": "display_data",
          "data": {
            "image/png": "[encoded data removed]",
            "text/plain": [
              "<Figure size 432x288 with 1 Axes>"
            ]
          },
          "metadata": {
            "tags": [],
            "needs_background": "light"
          }
        }
      ]
    },
    {
      "cell_type": "markdown",
      "metadata": {
        "id": "gNrx0u32x_Eg"
      },
      "source": [
        "# Model evaluation:"
      ]
    },
    {
      "cell_type": "code",
      "metadata": {
        "colab": {
          "base_uri": "https://localhost:8080/"
        },
        "id": "vD_M6AwXx-A9",
        "outputId": "4b9420f9-0e92-4da7-c276-abbbe58a12f7"
      },
      "source": [
        "predictions = (model.predict(X_test) > 0.5).astype(\"int32\")\n",
        "print(f\"\\n\\tConfusion  matrix: \\n{confusion_matrix(y_test, predictions)}\")\n",
        "print(f\"\\n\\tClassification report: \\n{classification_report(y_test, predictions)}\")"
      ],
      "execution_count": 11,
      "outputs": [
        {
          "output_type": "stream",
          "text": [
            "\n",
            "\tConfusion  matrix: \n",
            "[[2337  184]\n",
            " [ 372  857]]\n",
            "\n",
            "\tClassification report: \n",
            "              precision    recall  f1-score   support\n",
            "\n",
            "           0       0.86      0.93      0.89      2521\n",
            "           1       0.82      0.70      0.76      1229\n",
            "\n",
            "    accuracy                           0.85      3750\n",
            "   macro avg       0.84      0.81      0.82      3750\n",
            "weighted avg       0.85      0.85      0.85      3750\n",
            "\n"
          ],
          "name": "stdout"
        }
      ]
    },
    {
      "cell_type": "markdown",
      "metadata": {
        "id": "f68qKzGZyFfl"
      },
      "source": [
        "# With this method, we were able to achieve 85% accuracy in classification modeling with 82% recall for diabetic (1) class. Let's try it in action with the new instance:\n",
        "\n"
      ]
    },
    {
      "cell_type": "code",
      "metadata": {
        "colab": {
          "base_uri": "https://localhost:8080/"
        },
        "id": "sUCneznHyLoG",
        "outputId": "f3fce602-c0bb-48bd-feb6-81d800afcdd4"
      },
      "source": [
        "new_data = dataset.iloc[50, 1:-1].values\n",
        "new_predicted = model.predict(sc.transform([new_data]))\n",
        "print(f\"\\n\\tPredicted New instance: \\n{new_predicted}\")"
      ],
      "execution_count": 12,
      "outputs": [
        {
          "output_type": "stream",
          "text": [
            "\n",
            "\tPredicted New instance: \n",
            "[[0.47867763]]\n"
          ],
          "name": "stdout"
        }
      ]
    },
    {
      "cell_type": "markdown",
      "metadata": {
        "id": "t4I5TjOoyxAK"
      },
      "source": [
        "The output confirms that the model is working and predicts with 48% chance that the person has diabetes."
      ]
    }
  ]
}